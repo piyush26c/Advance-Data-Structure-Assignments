{
  "nbformat": 4,
  "nbformat_minor": 0,
  "metadata": {
    "colab": {
      "name": "Assignment-6(Vector addition + Matrix multiplication).ipynb",
      "provenance": [],
      "collapsed_sections": [],
      "authorship_tag": "ABX9TyOrkSD8OLSnLK/+DL3pt1Lb",
      "include_colab_link": true
    },
    "kernelspec": {
      "name": "python3",
      "display_name": "Python 3"
    },
    "accelerator": "GPU"
  },
  "cells": [
    {
      "cell_type": "markdown",
      "metadata": {
        "id": "view-in-github",
        "colab_type": "text"
      },
      "source": [
        "<a href=\"https://colab.research.google.com/github/piyush26c/Advance-Data-Structure-Assignments/blob/master/Assignment_6(Vector_addition_%2B_Matrix_multiplication).ipynb\" target=\"_parent\"><img src=\"https://colab.research.google.com/assets/colab-badge.svg\" alt=\"Open In Colab\"/></a>"
      ]
    },
    {
      "cell_type": "code",
      "metadata": {
        "colab": {
          "base_uri": "https://localhost:8080/"
        },
        "id": "PpGfeM31A1VS",
        "outputId": "e9bd3d1c-d6a6-4612-e782-6e4092162eab"
      },
      "source": [
        "!nvcc --version"
      ],
      "execution_count": 1,
      "outputs": [
        {
          "output_type": "stream",
          "text": [
            "nvcc: NVIDIA (R) Cuda compiler driver\n",
            "Copyright (c) 2005-2019 NVIDIA Corporation\n",
            "Built on Sun_Jul_28_19:07:16_PDT_2019\n",
            "Cuda compilation tools, release 10.1, V10.1.243\n"
          ],
          "name": "stdout"
        }
      ]
    },
    {
      "cell_type": "code",
      "metadata": {
        "colab": {
          "base_uri": "https://localhost:8080/"
        },
        "id": "qNxrpmEWCDOE",
        "outputId": "ab6afa7e-0cd6-4a08-93b5-9f72950db469"
      },
      "source": [
        "!pip install git+git://github.com/andreinechaev/nvcc4jupyter.git"
      ],
      "execution_count": 2,
      "outputs": [
        {
          "output_type": "stream",
          "text": [
            "Collecting git+git://github.com/andreinechaev/nvcc4jupyter.git\n",
            "  Cloning git://github.com/andreinechaev/nvcc4jupyter.git to /tmp/pip-req-build-0n3xor96\n",
            "  Running command git clone -q git://github.com/andreinechaev/nvcc4jupyter.git /tmp/pip-req-build-0n3xor96\n",
            "Building wheels for collected packages: NVCCPlugin\n",
            "  Building wheel for NVCCPlugin (setup.py) ... \u001b[?25l\u001b[?25hdone\n",
            "  Created wheel for NVCCPlugin: filename=NVCCPlugin-0.0.2-cp36-none-any.whl size=4307 sha256=df6337fbf5669d1dfe91b7f18ad31c2a21b8a4820ad7abe324d8dccf9802375c\n",
            "  Stored in directory: /tmp/pip-ephem-wheel-cache-fup50q8l/wheels/10/c2/05/ca241da37bff77d60d31a9174f988109c61ba989e4d4650516\n",
            "Successfully built NVCCPlugin\n",
            "Installing collected packages: NVCCPlugin\n",
            "Successfully installed NVCCPlugin-0.0.2\n"
          ],
          "name": "stdout"
        }
      ]
    },
    {
      "cell_type": "code",
      "metadata": {
        "colab": {
          "base_uri": "https://localhost:8080/"
        },
        "id": "qEd-RF1DClzS",
        "outputId": "a9f9b87b-f400-4145-d5e4-4f4df77eb76c"
      },
      "source": [
        "%load_ext nvcc_plugin"
      ],
      "execution_count": 4,
      "outputs": [
        {
          "output_type": "stream",
          "text": [
            "created output directory at /content/src\n",
            "Out bin /content/result.out\n"
          ],
          "name": "stdout"
        }
      ]
    },
    {
      "cell_type": "code",
      "metadata": {
        "colab": {
          "base_uri": "https://localhost:8080/"
        },
        "id": "gqGLEIQVC_N8",
        "outputId": "9d12faa0-1033-4745-e01c-39bb314dbe82"
      },
      "source": [
        "%%cu\n",
        "//Author : Piyush Rajendra Chaudhari\n",
        "//Roll No: BECOC311\n",
        "#include <stdio.h>\n",
        "#include <stdlib.h>\n",
        "#include <cuda.h>\n",
        "#define VECTOR_SIZE 10\n",
        "\n",
        "__global__ void vectorAddition (long long *vectorA_, long long *vectorB_, long long *vectorC_) {\n",
        "\tvectorC_[blockIdx.x] = vectorA_[blockIdx.x] + vectorB_[blockIdx.x];\n",
        "}\n",
        "\n",
        "void fillVector (long long *vector_) {\n",
        "\tfor (int indx = 0; indx < VECTOR_SIZE; indx++) {\n",
        "\t\tvector_[indx] = indx;\n",
        "\t}\n",
        "}\n",
        "\n",
        "void printVector (long long *vector_) {\n",
        "\tfor (int indx = 0; indx < VECTOR_SIZE; indx++) {\n",
        "\t\tprintf(\"%lld \", vector_[indx]);\n",
        "\t}\n",
        "}\n",
        "\n",
        "int main(void) {\n",
        "\tlong long *hostVectorA, *hostVectorB, *hostVectorC;\n",
        "\tlong long *deviceVectorA, *deviceVectorB, *deviceVectorC;\n",
        "\tlong long memorySize = VECTOR_SIZE * sizeof(long long);\n",
        "\t\n",
        "\t// Allocate space for host vectors A, B, C and insert input values\n",
        "  hostVectorA = (long long *)malloc(memorySize); \n",
        "\tfillVector(hostVectorA);\n",
        "  hostVectorB = (long long *)malloc(memorySize); \n",
        "\tfillVector(hostVectorB);\n",
        "  hostVectorC = (long long *)malloc(memorySize);\n",
        "\t\n",
        "\t// Allocate space for device vectors A, B, C\n",
        "  cudaMalloc((void **)&deviceVectorA, VECTOR_SIZE * sizeof(long long));\n",
        "  cudaMalloc((void **)&deviceVectorB, VECTOR_SIZE *sizeof(long long));\n",
        "  cudaMalloc((void **)&deviceVectorC, VECTOR_SIZE * sizeof(long long));\n",
        "\t\n",
        "\t// Copy vector data from host to device\n",
        "  cudaMemcpy(deviceVectorA, hostVectorA, VECTOR_SIZE * sizeof(long long), cudaMemcpyHostToDevice);\n",
        "  cudaMemcpy(deviceVectorB, hostVectorB, VECTOR_SIZE * sizeof(long long), cudaMemcpyHostToDevice);\n",
        "\t\n",
        "\t//by creating multiple blocks with single thread in it.\n",
        "\tvectorAddition<<<VECTOR_SIZE, 1>>>(deviceVectorA, deviceVectorB, deviceVectorC);\n",
        " \n",
        "  // Copy result back to host\n",
        "  cudaMemcpy(hostVectorC, deviceVectorC, VECTOR_SIZE * sizeof(long long), cudaMemcpyDeviceToHost);\n",
        " \n",
        "  printf(\"VECTOR A : \");\n",
        "\tprintVector(hostVectorA);\n",
        "\tprintf(\"\\nVECTOR B : \");\n",
        "\tprintVector(hostVectorB);\n",
        "\tprintf(\"\\nVECTOR C : \");\n",
        "\tprintVector(hostVectorC);\n",
        "  free(hostVectorA); \n",
        "\tfree(hostVectorB); \n",
        "\tfree(hostVectorC);\n",
        " \n",
        "  // free gpu memory\n",
        "  cudaFree(deviceVectorA); \n",
        "\tcudaFree(deviceVectorB); \n",
        "\tcudaFree(deviceVectorC);\n",
        "\t\n",
        "\treturn 0;\n",
        "}"
      ],
      "execution_count": 13,
      "outputs": [
        {
          "output_type": "stream",
          "text": [
            "VECTOR A : 0 1 2 3 4 5 6 7 8 9 \n",
            "VECTOR B : 0 1 2 3 4 5 6 7 8 9 \n",
            "VECTOR C : 0 2 4 6 8 10 12 14 16 18 \n"
          ],
          "name": "stdout"
        }
      ]
    }
  ]
}